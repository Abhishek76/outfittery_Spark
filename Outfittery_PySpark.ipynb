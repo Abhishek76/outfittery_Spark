{
 "cells": [
  {
   "cell_type": "code",
   "execution_count": 1,
   "id": "8e208583",
   "metadata": {},
   "outputs": [
    {
     "data": {
      "text/plain": [
       "'C:\\\\Program Files\\\\spark-3.3.0-bin-hadoop3'"
      ]
     },
     "execution_count": 1,
     "metadata": {},
     "output_type": "execute_result"
    }
   ],
   "source": [
    "import os\n",
    "import findspark\n",
    "findspark.init()\n",
    "findspark.find()\n",
    "import pyspark\n",
    "findspark.find()"
   ]
  },
  {
   "cell_type": "code",
   "execution_count": 2,
   "id": "b2af1889",
   "metadata": {},
   "outputs": [],
   "source": [
    "import findspark\n",
    "findspark.init()\n",
    "\n",
    "import pyspark # only run after findspark.init()\n",
    "from pyspark.sql import SparkSession\n",
    "spark = SparkSession.builder.getOrCreate()"
   ]
  },
  {
   "cell_type": "code",
   "execution_count": 242,
   "id": "b219e5bc",
   "metadata": {},
   "outputs": [],
   "source": [
    "from pyspark.sql.functions import col, max as max\n",
    "import pyspark.sql.functions as F\n",
    "from pyspark.sql.types import IntegerType\n"
   ]
  },
  {
   "cell_type": "markdown",
   "id": "e0015e0a",
   "metadata": {},
   "source": [
    "So here we try to take the data input as xml format with a schema check and we save this data in parquet format because we will be performing lot of columnar aggregation so we are saving and reading it back from parquet format and also we are keeping a backup of the data\n",
    "\n",
    "mostly in cloud we save such data in aws s3 or azure data lake with a time stamp"
   ]
  },
  {
   "cell_type": "code",
   "execution_count": 201,
   "id": "eb42d1fc",
   "metadata": {
    "scrolled": false
   },
   "outputs": [
    {
     "name": "stdout",
     "output_type": "stream",
     "text": [
      "+----+----------+--------------------+--------------+--------------------+--------------------+--------------------+-----+-------+---------+--------------------+---------+\n",
      "|  Id|Reputation|        CreationDate|   DisplayName|          WebsiteUrl|      LastAccessDate|           _Location|Views|UpVotes|DownVotes|     ProfileImageUrl|AccountId|\n",
      "+----+----------+--------------------+--------------+--------------------+--------------------+--------------------+-----+-------+---------+--------------------+---------+\n",
      "| 392|     13145|2011-06-07 08:25:...|    tohuwawohu|https://tohuwawoh...|2022-06-04 14:08:...|             Germany|  494|   1551|       46|https://www.grava...|   137956|\n",
      "| 467|        83|2011-06-13 02:44:...|Gerardo Curiel|     http://gerar.do|2020-07-04 08:27:...|Melbourne, Victor...|    3|      1|        0|https://www.grava...|    28681|\n",
      "| 836|         1|2011-09-07 22:22:...|           Ben|http://www.benjam...|2011-09-07 22:22:...|     Aachen, Germany|    0|      0|        0|                null|   896212|\n",
      "| 933|       101|2011-10-04 03:40:...|           foo|                null|2022-06-02 00:15:...|                null|    0|     30|        0|                null|   201997|\n",
      "|1289|       101|2012-02-01 02:28:...|           sth|     http://tejp.de/|2021-09-17 09:51:...|             Germany|    0|      4|        0|                null|    22723|\n",
      "|1461|         1|2012-03-24 19:36:...|        Kymmie|                null|2012-03-29 16:00:...|                null|    0|      0|        0|                null|   178030|\n",
      "|1504|       101|2012-04-11 03:32:...|     Agent1891|http://behery.git...|2019-11-22 11:15:...|     Aachen, Germany|    0|      1|        0|https://i.stack.i...|   119676|\n",
      "|1522|       101|2012-04-20 17:56:...|      GarouDan|https://www.linke...|2012-04-20 17:56:...|    Berlin, Alemanha|    0|      0|        0|https://i.stack.i...|   376000|\n",
      "|1584|       101|2012-05-10 10:35:...|      Erfankam|https://erfankam.com|2012-05-10 11:14:...|        Tehran, Iran|    0|      0|        0|                null|   305112|\n",
      "|1674|       101|2012-06-10 11:00:...|    user167780|                null|2012-06-10 11:34:...|                null|    0|      0|        0|                null|   506699|\n",
      "+----+----------+--------------------+--------------+--------------------+--------------------+--------------------+-----+-------+---------+--------------------+---------+\n",
      "only showing top 10 rows\n",
      "\n"
     ]
    }
   ],
   "source": [
    "Users = \"./data/Users.xml\"\n",
    "df_Users = spark.read.format(\"com.databricks.spark.xml\") \\\n",
    "        .option('rowTag', 'row').load(Users).select(\n",
    "    F.col('_Id').cast('integer').alias(\"Id\"),\n",
    "    F.col('_Reputation').cast('integer').alias(\"Reputation\"),\n",
    "    F.col('_CreationDate').cast('timestamp').alias(\"CreationDate\"),\n",
    "    F.col('_DisplayName').alias(\"DisplayName\"),\n",
    "    F.col('_WebsiteUrl').alias(\"WebsiteUrl\"),\n",
    "    F.col('_LastAccessDate').cast('timestamp').alias(\"LastAccessDate\"),\n",
    "    F.col('_Location').alias(\"_Location\"),  \n",
    "    F.col('_Views').cast('integer').alias(\"Views\"),\n",
    "    F.col('_UpVotes').cast('integer').alias(\"UpVotes\"),\n",
    "    F.col('_DownVotes').cast('integer').alias(\"DownVotes\"),\n",
    "    F.col('_ProfileImageUrl').alias(\"ProfileImageUrl\"),\n",
    "    F.col('_AccountId').cast('integer').alias(\"AccountId\")).dropDuplicates()\n",
    "df_Users.show(10)\n",
    "df_Users.write.parquet(\"./jupyter_output/Users.parquet\")\n",
    "df_Users=spark.read.parquet(\"./jupyter_output/Users.parquet\")"
   ]
  },
  {
   "cell_type": "markdown",
   "id": "bdb9275f",
   "metadata": {},
   "source": [
    "we try to do some eda like checking the schema than have a view of the data frame understand the colums"
   ]
  },
  {
   "cell_type": "code",
   "execution_count": 202,
   "id": "02709999",
   "metadata": {
    "scrolled": true
   },
   "outputs": [
    {
     "name": "stdout",
     "output_type": "stream",
     "text": [
      "root\n",
      " |-- Id: integer (nullable = true)\n",
      " |-- Reputation: integer (nullable = true)\n",
      " |-- CreationDate: timestamp (nullable = true)\n",
      " |-- DisplayName: string (nullable = true)\n",
      " |-- WebsiteUrl: string (nullable = true)\n",
      " |-- LastAccessDate: timestamp (nullable = true)\n",
      " |-- _Location: string (nullable = true)\n",
      " |-- Views: integer (nullable = true)\n",
      " |-- UpVotes: integer (nullable = true)\n",
      " |-- DownVotes: integer (nullable = true)\n",
      " |-- ProfileImageUrl: string (nullable = true)\n",
      " |-- AccountId: integer (nullable = true)\n",
      "\n"
     ]
    }
   ],
   "source": [
    "df_Users.printSchema()"
   ]
  },
  {
   "cell_type": "code",
   "execution_count": 203,
   "id": "45ad9709",
   "metadata": {},
   "outputs": [],
   "source": [
    "badges = \"./data/Badges.xml\"\n",
    "df_Badges = spark.read.format(\"com.databricks.spark.xml\") \\\n",
    "        .option('rowTag', 'row') \\\n",
    "        .load(badges).select(F.col('_Id').cast('integer'),\n",
    "                            F.col('_Name'),\n",
    "                            F.col('_UserId').cast('integer'),).dropDuplicates()\n",
    "df_Badges.write.parquet(\"./jupyter_output/Badges.parquet\")\n",
    "df_Badges=spark.read.parquet(\"./jupyter_output/Badges.parquet\")"
   ]
  },
  {
   "cell_type": "code",
   "execution_count": 204,
   "id": "bdfb98cf",
   "metadata": {},
   "outputs": [],
   "source": [
    "posts = \"./data/Posts.xml\"\n",
    "df_Posts = spark.read.format(\"com.databricks.spark.xml\") \\\n",
    "        .option('rowTag', 'row') \\\n",
    "        .load(posts).select(F.col('_Id').cast('integer'),\n",
    "                            F.col('_CreationDate').cast('timestamp'),\n",
    "                            F.col('_OwnerUserId').cast('integer'),\n",
    "                            F.col('_CommentCount').cast('integer'),).dropDuplicates()\n",
    "df_Posts.write.parquet(\"./jupyter_output/Posts.parquet\")\n",
    "df_Posts=spark.read.parquet(\"./jupyter_output/Posts.parquet\")"
   ]
  },
  {
   "cell_type": "code",
   "execution_count": 205,
   "id": "1c74fd02",
   "metadata": {},
   "outputs": [],
   "source": [
    "comments = \"./data/Comments.xml\"\n",
    "df_Comments = spark.read.format(\"com.databricks.spark.xml\") \\\n",
    "        .option('rowTag', 'row') \\\n",
    "        .load(comments).select(F.col('_Id').cast('integer'),\n",
    "                            F.col('_CreationDate').cast('timestamp'),\n",
    "                            F.col('_UserId').cast('integer'),).dropDuplicates()\n",
    "df_Comments.write.parquet(\"./jupyter_output/Comments.parquet\")\n",
    "df_Comments=spark.read.parquet(\"./jupyter_output/Comments.parquet\")"
   ]
  },
  {
   "cell_type": "code",
   "execution_count": 206,
   "id": "302853e4",
   "metadata": {},
   "outputs": [
    {
     "name": "stdout",
     "output_type": "stream",
     "text": [
      "root\n",
      " |-- _Id: integer (nullable = true)\n",
      " |-- _CreationDate: timestamp (nullable = true)\n",
      " |-- _UserId: integer (nullable = true)\n",
      "\n"
     ]
    }
   ],
   "source": [
    "df_Comments.printSchema()"
   ]
  },
  {
   "cell_type": "code",
   "execution_count": 207,
   "id": "f04bd0d0",
   "metadata": {},
   "outputs": [
    {
     "name": "stdout",
     "output_type": "stream",
     "text": [
      "root\n",
      " |-- _Id: integer (nullable = true)\n",
      " |-- _CreationDate: timestamp (nullable = true)\n",
      " |-- _OwnerUserId: integer (nullable = true)\n",
      " |-- _CommentCount: integer (nullable = true)\n",
      "\n"
     ]
    }
   ],
   "source": [
    "df_Posts.printSchema()\n",
    "\n"
   ]
  },
  {
   "cell_type": "code",
   "execution_count": 208,
   "id": "4f0d0926",
   "metadata": {},
   "outputs": [
    {
     "name": "stdout",
     "output_type": "stream",
     "text": [
      "root\n",
      " |-- _Id: integer (nullable = true)\n",
      " |-- _Name: string (nullable = true)\n",
      " |-- _UserId: integer (nullable = true)\n",
      "\n"
     ]
    }
   ],
   "source": [
    "df_Badges.printSchema()"
   ]
  },
  {
   "cell_type": "markdown",
   "id": "e6397735",
   "metadata": {},
   "source": [
    "here in badages data frame we run some spark function where if the badge name (column - _name) is editor , cleric we generate new columns is_editor , is_critic with values 0 and 1 where 1 stand for it is editor , it is critic on respective columns and 0 for it is not"
   ]
  },
  {
   "cell_type": "code",
   "execution_count": 209,
   "id": "e8650c89",
   "metadata": {},
   "outputs": [
    {
     "name": "stdout",
     "output_type": "stream",
     "text": [
      "+-------+---------+---------+\n",
      "|_UserId|is_Editor|is_critic|\n",
      "+-------+---------+---------+\n",
      "|  23336|        0|        0|\n",
      "|  36131|        0|        0|\n",
      "|  49308|        0|        0|\n",
      "|   1088|        0|        0|\n",
      "|  15846|        0|        0|\n",
      "|    463|        0|        0|\n",
      "|    833|        0|        0|\n",
      "|  31983|        0|        0|\n",
      "|  18800|        0|        0|\n",
      "|    148|        0|        0|\n",
      "|   1829|        0|        0|\n",
      "|   2366|        0|        0|\n",
      "|   3175|        0|        0|\n",
      "|  30970|        0|        0|\n",
      "|  32539|        0|        0|\n",
      "|  34239|        0|        0|\n",
      "|  43302|        0|        0|\n",
      "|  25462|        0|        0|\n",
      "|  29814|        0|        0|\n",
      "|  10817|        0|        0|\n",
      "+-------+---------+---------+\n",
      "only showing top 20 rows\n",
      "\n"
     ]
    }
   ],
   "source": [
    "df_Badges = df_Badges.withColumn('is_Editor', F.when(F.col('_Name') == \"Editor\", 1).otherwise(0))\n",
    "df_Badges = df_Badges.withColumn('is_critic', F.when(F.col('_Name') == \"Critic\", 1).otherwise(0)).dropDuplicates(['_UserId'])\n",
    "df_Badges = df_Badges.drop(\"_Id\",\"_Name\")\n",
    "df_Badges.show()"
   ]
  },
  {
   "cell_type": "markdown",
   "id": "ccc8e8ab",
   "metadata": {},
   "source": [
    "here average comment per user is counted over the period that the whole period when he was first active to the last active month even if there are months in between this where he wasnt active is also counted as it falls inside the range of first and last active months"
   ]
  },
  {
   "cell_type": "code",
   "execution_count": 210,
   "id": "2b0e2c1a",
   "metadata": {},
   "outputs": [
    {
     "name": "stdout",
     "output_type": "stream",
     "text": [
      "+-------+-----+--------------------+--------------------+-------------------+-------------------------+\n",
      "|_UserId|count|            max_date|            min_date|total_active_period|AverageComment_OverPeriod|\n",
      "+-------+-----+--------------------+--------------------+-------------------+-------------------------+\n",
      "|    833|   23|2021-11-02 12:38:...|2011-09-07 10:58:...|                121|                     0.19|\n",
      "|   3175|    7|2016-01-13 15:48:...|2013-07-24 10:28:...|                 29|                     0.23|\n",
      "|  36131|    6|2020-02-06 09:51:...|2020-02-05 12:48:...|                  0|                      6.0|\n",
      "|   1088|    4|2012-01-08 16:37:...|2011-12-30 18:47:...|                  0|                      4.0|\n",
      "|  22373|    4|2017-03-07 12:04:...|2016-07-04 09:31:...|                  8|                     0.44|\n",
      "|   1580|    4|2016-05-25 22:28:...|2015-08-27 12:36:...|                  8|                     0.44|\n",
      "|  43852|    3|2020-05-25 14:06:...|2020-05-25 10:18:...|                  0|                      3.0|\n",
      "|   4900|    3|2013-12-13 22:57:...|2013-12-12 16:28:...|                  0|                      3.0|\n",
      "|  20735|    3|2016-03-21 23:39:...|2016-03-11 13:30:...|                  0|                      3.0|\n",
      "|  11141|    2| 2018-03-08 14:29:42|2018-03-08 14:11:...|                  0|                      2.0|\n",
      "+-------+-----+--------------------+--------------------+-------------------+-------------------------+\n",
      "only showing top 10 rows\n",
      "\n",
      "+-------+-------------------------+\n",
      "|_UserId|AverageComment_OverPeriod|\n",
      "+-------+-------------------------+\n",
      "|    833|                     0.19|\n",
      "|   3175|                     0.23|\n",
      "|  36131|                      6.0|\n",
      "|   1088|                      4.0|\n",
      "|  22373|                     0.44|\n",
      "|   1580|                     0.44|\n",
      "|  43852|                      3.0|\n",
      "|   4900|                      3.0|\n",
      "|  20735|                      3.0|\n",
      "|  11141|                      2.0|\n",
      "+-------+-------------------------+\n",
      "only showing top 10 rows\n",
      "\n"
     ]
    }
   ],
   "source": [
    "df_commentAverageOverPeriod = df_Comments.groupBy(\"_UserId\").agg(F.count(\"_UserId\").alias(\"count\"), F.max(\"_CreationDate\").alias(\"max_date\"), F.min(\"_CreationDate\").alias(\"min_date\")).orderBy(F.col(\"count\").desc())\n",
    "df_commentAverageOverPeriod = df_commentAverageOverPeriod.withColumn(\"total_active_period\", F.months_between(F.col(\"max_date\"),F.col(\"min_date\")))\n",
    "df_commentAverageOverPeriod = df_commentAverageOverPeriod.withColumn(\"total_active_period\", F.floor(F.col(\"total_active_period\")).cast(IntegerType())).withColumn(\"AverageComment_OverPeriod\",  F.round((F.col(\"count\") /( F.col(\"total_active_period\")+1)),2))\n",
    "df_commentAverageOverPeriod = df_commentAverageOverPeriod.dropDuplicates(['_UserId'])\n",
    "df_commentAverageOverPeriod.show(10)\n",
    "df_commentAverageOverPeriod = df_commentAverageOverPeriod.drop(\"count\",\"max_date\",\"min_date\",\"total_active_period\")\n",
    "df_commentAverageOverPeriod.show(10)"
   ]
  },
  {
   "cell_type": "markdown",
   "id": "e9b904dc",
   "metadata": {},
   "source": [
    "Here we try to fing the average coments over active months and avtive month is counted is he has active in that month"
   ]
  },
  {
   "cell_type": "code",
   "execution_count": 211,
   "id": "ff4bfa59",
   "metadata": {
    "scrolled": true
   },
   "outputs": [
    {
     "name": "stdout",
     "output_type": "stream",
     "text": [
      "+-------+-------------+--------------+--------+--------+-----------------------------+\n",
      "|_UserId|Months_active|total_comments|max_date|min_date|AverageValue_OverActiveMonths|\n",
      "+-------+-------------+--------------+--------+--------+-----------------------------+\n",
      "|   null|            0|          3015| 2022 05| 2011 05|                         null|\n",
      "|     -1|            1|             3| 2021 09| 2021 09|                            3|\n",
      "|      2|            5|            17| 2012 04| 2011 05|                            3|\n",
      "|      4|           21|           267| 2020 06| 2011 05|                           13|\n",
      "|      5|            1|             1| 2011 06| 2011 06|                            1|\n",
      "|      7|            2|             7| 2011 06| 2011 05|                            4|\n",
      "|      8|            8|            94| 2017 07| 2011 05|                           12|\n",
      "|      9|            3|            13| 2011 07| 2011 05|                            4|\n",
      "|     10|            4|             5| 2016 01| 2011 05|                            1|\n",
      "|     11|            3|             4| 2011 10| 2011 05|                            1|\n",
      "|     13|            1|            14| 2011 05| 2011 05|                           14|\n",
      "|     14|            1|             1| 2011 05| 2011 05|                            1|\n",
      "|     19|           10|           244| 2014 12| 2011 05|                           24|\n",
      "|     20|            5|             8| 2012 12| 2011 05|                            2|\n",
      "|     21|            1|             2| 2011 05| 2011 05|                            2|\n",
      "|     23|          107|          2048| 2022 01| 2011 05|                           19|\n",
      "|     24|            2|             4| 2012 05| 2011 06|                            2|\n",
      "|     26|            6|            31| 2018 12| 2011 05|                            5|\n",
      "|     28|            5|            33| 2015 06| 2011 05|                            7|\n",
      "|     32|            1|             1| 2011 06| 2011 06|                            1|\n",
      "+-------+-------------+--------------+--------+--------+-----------------------------+\n",
      "only showing top 20 rows\n",
      "\n",
      "+-------+-----------------------------+\n",
      "|_UserId|AverageValue_OverActiveMonths|\n",
      "+-------+-----------------------------+\n",
      "|   1580|                            2|\n",
      "|    833|                            2|\n",
      "|  35820|                            1|\n",
      "|  15846|                            2|\n",
      "|   2366|                            1|\n",
      "|  43852|                            3|\n",
      "|  22373|                            2|\n",
      "|   1088|                            2|\n",
      "|   3175|                            2|\n",
      "|  28836|                            1|\n",
      "|  36131|                            6|\n",
      "|   4900|                            3|\n",
      "|  33722|                            1|\n",
      "|  11141|                            2|\n",
      "|  38868|                            2|\n",
      "|  18654|                            2|\n",
      "|   1238|                            1|\n",
      "|    463|                            1|\n",
      "|    148|                            1|\n",
      "|  47711|                            1|\n",
      "+-------+-----------------------------+\n",
      "only showing top 20 rows\n",
      "\n"
     ]
    }
   ],
   "source": [
    "df_commentAverageActive = df_Comments.withColumn(\"yyyymm\", F.date_format(F.col(\"_CreationDate\"), \"yyyy MM\")).groupBy(\"_UserId\",\"yyyymm\").count()\n",
    "\n",
    "df_commentAverageActive = df_commentAverageActive.groupBy(\"_UserId\").agg(F.count(\"_UserId\").alias(\"Months_active\"), F.sum(\"count\").alias(\"total_comments\"),F.max(\"yyyymm\").alias(\"max_date\"), F.min(\"yyyymm\").alias(\"min_date\"))\n",
    "\n",
    "df_commentAverageActive = df_commentAverageActive.withColumn(\"AverageValue_OverActiveMonths\",  F.round((F.col(\"total_comments\") / F.col(\"Months_active\"))).cast(IntegerType()))\n",
    "df_commentAverageActive = df_commentAverageActive.dropDuplicates(['_UserId'])\n",
    "\n",
    "df_commentAverageActive.show()\n",
    "df_commentAverageActive = df_commentAverageActive.drop(\"total_comments\",\"max_date\",\"min_date\",\"Months_active\")\n",
    "df_commentAverageActive.show()"
   ]
  },
  {
   "cell_type": "markdown",
   "id": "e36aa93e",
   "metadata": {},
   "source": [
    "Here we are counting the sum of posts by user here both question and answers are taken as posts"
   ]
  },
  {
   "cell_type": "code",
   "execution_count": 212,
   "id": "fd56e1c8",
   "metadata": {
    "scrolled": true
   },
   "outputs": [
    {
     "name": "stdout",
     "output_type": "stream",
     "text": [
      "+------------+---------------+\n",
      "|_OwnerUserId|TotalPostsCount|\n",
      "+------------+---------------+\n",
      "|         148|              6|\n",
      "|        1088|              5|\n",
      "|       18911|              1|\n",
      "|        1580|              2|\n",
      "|        2366|              1|\n",
      "|       16386|              1|\n",
      "|        6357|              3|\n",
      "|         833|              4|\n",
      "|       18654|              1|\n",
      "|        1829|              3|\n",
      "|        5803|              1|\n",
      "|       23015|              1|\n",
      "|        3175|              3|\n",
      "|        4900|              6|\n",
      "|       22373|              3|\n",
      "|       16861|              1|\n",
      "|       20735|              2|\n",
      "|        6397|              1|\n",
      "|        1238|              1|\n",
      "|       22097|              1|\n",
      "+------------+---------------+\n",
      "only showing top 20 rows\n",
      "\n"
     ]
    }
   ],
   "source": [
    "df_Count_posts = df_Posts.groupBy(\"_OwnerUserId\").agg(F.count(\"_OwnerUserId\").alias(\"TotalPostsCount\"))\n",
    "df_Count_posts = df_Count_posts.dropDuplicates(['_OwnerUserId'])\n",
    "df_Count_posts.show()"
   ]
  },
  {
   "cell_type": "markdown",
   "id": "4b0cdcbc",
   "metadata": {},
   "source": [
    "this is no of posts by user in last 90 days"
   ]
  },
  {
   "cell_type": "code",
   "execution_count": 213,
   "id": "b846d59b",
   "metadata": {
    "scrolled": true
   },
   "outputs": [
    {
     "name": "stdout",
     "output_type": "stream",
     "text": [
      "+------------+--------------------+\n",
      "|_OwnerUserId|PostsCountLast90Days|\n",
      "+------------+--------------------+\n",
      "|       53051|                   1|\n",
      "|       53291|                   1|\n",
      "|       53300|                   1|\n",
      "|       34192|                   1|\n",
      "|       53296|                   1|\n",
      "|       46642|                   1|\n",
      "|       53302|                   1|\n",
      "|       49023|                   1|\n",
      "|       53278|                   2|\n",
      "|       53309|                   1|\n",
      "|       15264|                   1|\n",
      "|        1487|                   2|\n",
      "|       22704|                   1|\n",
      "|       10837|                   1|\n",
      "|       44591|                   1|\n",
      "|       52092|                   1|\n",
      "|       43989|                   2|\n",
      "|       53305|                   1|\n",
      "|       25884|                   1|\n",
      "|       53289|                   1|\n",
      "+------------+--------------------+\n",
      "only showing top 20 rows\n",
      "\n"
     ]
    }
   ],
   "source": [
    "df_last90days_posts = df_Posts.filter(F.col('_CreationDate') >= F.date_sub(F.current_date(), 90))\n",
    "df_last90days_posts = df_last90days_posts.groupBy(\"_OwnerUserId\").agg(F.count(\"_OwnerUserId\").alias(\"PostsCountLast90Days\"))\n",
    "df_last90days_posts = df_last90days_posts.dropDuplicates(['_OwnerUserId'])\n",
    "df_last90days_posts.show()"
   ]
  },
  {
   "cell_type": "markdown",
   "id": "76eb1157",
   "metadata": {},
   "source": [
    "it is last date where the user created a post last"
   ]
  },
  {
   "cell_type": "code",
   "execution_count": 214,
   "id": "1bfb5f81",
   "metadata": {
    "scrolled": true
   },
   "outputs": [
    {
     "name": "stdout",
     "output_type": "stream",
     "text": [
      "+------------+--------------------+\n",
      "|_OwnerUserId|   Last_creationDate|\n",
      "+------------+--------------------+\n",
      "|         148|2011-09-07 21:25:...|\n",
      "|       18911|2015-11-04 11:59:...|\n",
      "|        1580|2012-05-07 23:59:...|\n",
      "|        2366|2014-08-26 15:58:...|\n",
      "|       16386|2015-06-28 23:08:...|\n",
      "|        6357|2015-04-14 01:32:...|\n",
      "|       18654|2015-10-16 22:32:...|\n",
      "|        1088|2011-12-29 19:08:...|\n",
      "|        3175|2014-05-14 13:42:...|\n",
      "|        4900|2013-12-13 22:54:...|\n",
      "|       22373|2017-03-06 11:48:...|\n",
      "|        1829|2012-08-08 14:22:...|\n",
      "|       20735|2016-06-07 17:55:...|\n",
      "|        6397|2014-05-26 15:42:...|\n",
      "|       22097|2016-06-10 18:18:...|\n",
      "|       35982|2019-01-23 22:28:...|\n",
      "|       35820|2019-01-10 11:59:...|\n",
      "|       26425|2017-04-01 21:32:...|\n",
      "|         833|2020-01-13 13:01:...|\n",
      "|       30970|2017-12-13 15:17:...|\n",
      "+------------+--------------------+\n",
      "only showing top 20 rows\n",
      "\n"
     ]
    }
   ],
   "source": [
    "df_lastcreation_posts = df_Posts.filter(F.col('_CommentCount') >= 1).groupBy(\"_OwnerUserId\").agg(F.max(\"_CreationDate\").alias(\"Last_creationDate\"))\n",
    "df_lastcreation_posts = df_lastcreation_posts.dropDuplicates(['_OwnerUserId'])\n",
    "df_lastcreation_posts.show()"
   ]
  },
  {
   "cell_type": "markdown",
   "id": "9f711dcd",
   "metadata": {},
   "source": [
    "now we join all the tabels with the user table and thus enriching with newly genrated colums here we keep a count after each joins we try to drop the duplicates so the there is explosion of rows due to iterative joins"
   ]
  },
  {
   "cell_type": "code",
   "execution_count": 215,
   "id": "2d0fc49c",
   "metadata": {},
   "outputs": [
    {
     "data": {
      "text/plain": [
       "36638"
      ]
     },
     "execution_count": 215,
     "metadata": {},
     "output_type": "execute_result"
    }
   ],
   "source": [
    "df_Users.count()"
   ]
  },
  {
   "cell_type": "code",
   "execution_count": 216,
   "id": "14bb751b",
   "metadata": {},
   "outputs": [
    {
     "data": {
      "text/plain": [
       "36638"
      ]
     },
     "execution_count": 216,
     "metadata": {},
     "output_type": "execute_result"
    }
   ],
   "source": [
    "df_Users_temp = df_Users.join(df_lastcreation_posts, df_Users.Id == df_lastcreation_posts._OwnerUserId,how='left')\n",
    "df_Users_temp = df_Users_temp.drop(\"_OwnerUserId\",\"_UserId\")\n",
    "df_Users_temp.count()"
   ]
  },
  {
   "cell_type": "code",
   "execution_count": 217,
   "id": "b7a8b54c",
   "metadata": {},
   "outputs": [
    {
     "data": {
      "text/plain": [
       "36638"
      ]
     },
     "execution_count": 217,
     "metadata": {},
     "output_type": "execute_result"
    }
   ],
   "source": [
    "\n",
    "df_Users_temp = df_Users_temp.join(df_Count_posts, df_Users_temp.Id == df_Count_posts._OwnerUserId,how='left')\n",
    "df_Users_temp = df_Users_temp.drop(\"_OwnerUserId\")\n",
    "df_Users_temp.count()"
   ]
  },
  {
   "cell_type": "code",
   "execution_count": 218,
   "id": "17b1ce63",
   "metadata": {},
   "outputs": [
    {
     "data": {
      "text/plain": [
       "36638"
      ]
     },
     "execution_count": 218,
     "metadata": {},
     "output_type": "execute_result"
    }
   ],
   "source": [
    "\n",
    "df_Users_temp = df_Users_temp.join(df_last90days_posts, df_Users_temp.Id == df_last90days_posts._OwnerUserId,how='left')\n",
    "df_Users_temp = df_Users_temp.drop(\"_OwnerUserId\")\n",
    "df_Users_temp.count()"
   ]
  },
  {
   "cell_type": "code",
   "execution_count": 219,
   "id": "f93a80bb",
   "metadata": {},
   "outputs": [
    {
     "name": "stdout",
     "output_type": "stream",
     "text": [
      "+---+----------+--------------------+---------------+--------------------+--------------------+--------------------+-----+-------+---------+---------------+---------+--------------------+---------------+--------------------+\n",
      "| Id|Reputation|        CreationDate|    DisplayName|          WebsiteUrl|      LastAccessDate|           _Location|Views|UpVotes|DownVotes|ProfileImageUrl|AccountId|   Last_creationDate|TotalPostsCount|PostsCountLast90Days|\n",
      "+---+----------+--------------------+---------------+--------------------+--------------------+--------------------+-----+-------+---------+---------------+---------+--------------------+---------------+--------------------+\n",
      "|  9|      1075|2011-05-24 21:28:...|        Jemus42|https://blog.jemu...|2022-01-27 16:21:...|     Bremen, Germany|   29|     48|        0|           null|   177798|2011-05-26 14:39:...|             10|                null|\n",
      "| 85|       101|2011-05-25 01:26:...|          Marco|                null|2011-05-25 01:26:...|                null|    0|      0|        0|           null|   263030|                null|           null|                null|\n",
      "|297|       168|2011-06-02 20:13:...|  Philipp Hanes|                null|2019-12-03 02:59:...|                null|    8|      2|        0|           null|   410088|2018-06-14 18:59:...|              3|                null|\n",
      "|336|       101|2011-06-04 13:23:...|  program247365|      https://kbr.sh|2015-11-17 09:40:...|Buffalo, New York...|    0|      0|        0|           null|     3900|                null|           null|                null|\n",
      "|385|       101|2011-06-06 17:37:...|Heath Hunnicutt|http://www.twinel...|2011-06-06 17:37:...|         Seattle, WA|    3|      0|        0|           null|    63815|                null|           null|                null|\n",
      "+---+----------+--------------------+---------------+--------------------+--------------------+--------------------+-----+-------+---------+---------------+---------+--------------------+---------------+--------------------+\n",
      "only showing top 5 rows\n",
      "\n"
     ]
    }
   ],
   "source": [
    "df_Users_temp.show(5)"
   ]
  },
  {
   "cell_type": "code",
   "execution_count": 220,
   "id": "861ae88d",
   "metadata": {},
   "outputs": [
    {
     "data": {
      "text/plain": [
       "36638"
      ]
     },
     "execution_count": 220,
     "metadata": {},
     "output_type": "execute_result"
    }
   ],
   "source": [
    "\n",
    "df_Users_temp = df_Users_temp.join(df_Badges, df_Users_temp.Id == df_Badges._UserId,how='left')\n",
    "df_Users_temp = df_Users_temp.drop(\"_UserId\")\n",
    "df_Users_temp.count()"
   ]
  },
  {
   "cell_type": "code",
   "execution_count": 221,
   "id": "42b35851",
   "metadata": {},
   "outputs": [
    {
     "name": "stdout",
     "output_type": "stream",
     "text": [
      "root\n",
      " |-- Id: integer (nullable = true)\n",
      " |-- Reputation: integer (nullable = true)\n",
      " |-- CreationDate: timestamp (nullable = true)\n",
      " |-- DisplayName: string (nullable = true)\n",
      " |-- WebsiteUrl: string (nullable = true)\n",
      " |-- LastAccessDate: timestamp (nullable = true)\n",
      " |-- _Location: string (nullable = true)\n",
      " |-- Views: integer (nullable = true)\n",
      " |-- UpVotes: integer (nullable = true)\n",
      " |-- DownVotes: integer (nullable = true)\n",
      " |-- ProfileImageUrl: string (nullable = true)\n",
      " |-- AccountId: integer (nullable = true)\n",
      " |-- Last_creationDate: timestamp (nullable = true)\n",
      " |-- TotalPostsCount: long (nullable = true)\n",
      " |-- PostsCountLast90Days: long (nullable = true)\n",
      " |-- is_Editor: integer (nullable = true)\n",
      " |-- is_critic: integer (nullable = true)\n",
      "\n"
     ]
    }
   ],
   "source": [
    "df_Users_temp.printSchema()"
   ]
  },
  {
   "cell_type": "code",
   "execution_count": 222,
   "id": "c84d84df",
   "metadata": {
    "scrolled": true
   },
   "outputs": [
    {
     "name": "stdout",
     "output_type": "stream",
     "text": [
      "+-------+-------------------------+\n",
      "|_UserId|AverageComment_OverPeriod|\n",
      "+-------+-------------------------+\n",
      "|    833|                     0.19|\n",
      "|   3175|                     0.23|\n",
      "|  36131|                      6.0|\n",
      "|   1088|                      4.0|\n",
      "|  22373|                     0.44|\n",
      "|   1580|                     0.44|\n",
      "|  43852|                      3.0|\n",
      "|   4900|                      3.0|\n",
      "|  20735|                      3.0|\n",
      "|  11141|                      2.0|\n",
      "|  38868|                      2.0|\n",
      "|   1238|                     0.15|\n",
      "|  18654|                      2.0|\n",
      "|  15846|                      2.0|\n",
      "|    463|                      1.0|\n",
      "|  23015|                      1.0|\n",
      "|    148|                      1.0|\n",
      "|  35820|                      1.0|\n",
      "|   5803|                      1.0|\n",
      "|  28836|                      1.0|\n",
      "+-------+-------------------------+\n",
      "only showing top 20 rows\n",
      "\n"
     ]
    }
   ],
   "source": [
    "df_commentAverageOverPeriod.show()"
   ]
  },
  {
   "cell_type": "code",
   "execution_count": 223,
   "id": "b928a5b5",
   "metadata": {},
   "outputs": [
    {
     "data": {
      "text/plain": [
       "36638"
      ]
     },
     "execution_count": 223,
     "metadata": {},
     "output_type": "execute_result"
    }
   ],
   "source": [
    "df_Users_temp = df_Users_temp.join(df_commentAverageOverPeriod, df_Users_temp.Id == df_commentAverageOverPeriod._UserId,how='left')\n",
    "df_Users_temp = df_Users_temp.drop(\"_UserId\")\n",
    "df_Users_temp.count()"
   ]
  },
  {
   "cell_type": "code",
   "execution_count": 224,
   "id": "6d321e9a",
   "metadata": {},
   "outputs": [
    {
     "name": "stdout",
     "output_type": "stream",
     "text": [
      "root\n",
      " |-- Id: integer (nullable = true)\n",
      " |-- Reputation: integer (nullable = true)\n",
      " |-- CreationDate: timestamp (nullable = true)\n",
      " |-- DisplayName: string (nullable = true)\n",
      " |-- WebsiteUrl: string (nullable = true)\n",
      " |-- LastAccessDate: timestamp (nullable = true)\n",
      " |-- _Location: string (nullable = true)\n",
      " |-- Views: integer (nullable = true)\n",
      " |-- UpVotes: integer (nullable = true)\n",
      " |-- DownVotes: integer (nullable = true)\n",
      " |-- ProfileImageUrl: string (nullable = true)\n",
      " |-- AccountId: integer (nullable = true)\n",
      " |-- Last_creationDate: timestamp (nullable = true)\n",
      " |-- TotalPostsCount: long (nullable = true)\n",
      " |-- PostsCountLast90Days: long (nullable = true)\n",
      " |-- is_Editor: integer (nullable = true)\n",
      " |-- is_critic: integer (nullable = true)\n",
      " |-- AverageComment_OverPeriod: double (nullable = true)\n",
      "\n"
     ]
    }
   ],
   "source": [
    "df_Users_temp.printSchema()"
   ]
  },
  {
   "cell_type": "code",
   "execution_count": 225,
   "id": "bb45a6d6",
   "metadata": {},
   "outputs": [
    {
     "name": "stdout",
     "output_type": "stream",
     "text": [
      "+-------+-----------------------------+\n",
      "|_UserId|AverageValue_OverActiveMonths|\n",
      "+-------+-----------------------------+\n",
      "|   1580|                            2|\n",
      "|    833|                            2|\n",
      "|  35820|                            1|\n",
      "|  15846|                            2|\n",
      "|   2366|                            1|\n",
      "|  43852|                            3|\n",
      "|  22373|                            2|\n",
      "|   1088|                            2|\n",
      "|   3175|                            2|\n",
      "|  28836|                            1|\n",
      "|  36131|                            6|\n",
      "|   4900|                            3|\n",
      "|  33722|                            1|\n",
      "|  11141|                            2|\n",
      "|  38868|                            2|\n",
      "|  18654|                            2|\n",
      "|   1238|                            1|\n",
      "|    463|                            1|\n",
      "|    148|                            1|\n",
      "|  47711|                            1|\n",
      "+-------+-----------------------------+\n",
      "only showing top 20 rows\n",
      "\n"
     ]
    }
   ],
   "source": [
    "df_commentAverageActive.show()"
   ]
  },
  {
   "cell_type": "code",
   "execution_count": 226,
   "id": "e9004c8e",
   "metadata": {},
   "outputs": [
    {
     "data": {
      "text/plain": [
       "36638"
      ]
     },
     "execution_count": 226,
     "metadata": {},
     "output_type": "execute_result"
    }
   ],
   "source": [
    "df_Users_temp = df_Users_temp.join(df_commentAverageActive, df_Users_temp.Id == df_commentAverageActive._UserId,how='left')\n",
    "df_Users_temp = df_Users_temp.drop(\"_UserId\")\n",
    "df_Users_temp.count()"
   ]
  },
  {
   "cell_type": "code",
   "execution_count": 227,
   "id": "0858125a",
   "metadata": {},
   "outputs": [
    {
     "name": "stdout",
     "output_type": "stream",
     "text": [
      "root\n",
      " |-- Id: integer (nullable = true)\n",
      " |-- Reputation: integer (nullable = true)\n",
      " |-- CreationDate: timestamp (nullable = true)\n",
      " |-- DisplayName: string (nullable = true)\n",
      " |-- WebsiteUrl: string (nullable = true)\n",
      " |-- LastAccessDate: timestamp (nullable = true)\n",
      " |-- _Location: string (nullable = true)\n",
      " |-- Views: integer (nullable = true)\n",
      " |-- UpVotes: integer (nullable = true)\n",
      " |-- DownVotes: integer (nullable = true)\n",
      " |-- ProfileImageUrl: string (nullable = true)\n",
      " |-- AccountId: integer (nullable = true)\n",
      " |-- Last_creationDate: timestamp (nullable = true)\n",
      " |-- TotalPostsCount: long (nullable = true)\n",
      " |-- PostsCountLast90Days: long (nullable = true)\n",
      " |-- is_Editor: integer (nullable = true)\n",
      " |-- is_critic: integer (nullable = true)\n",
      " |-- AverageComment_OverPeriod: double (nullable = true)\n",
      " |-- AverageValue_OverActiveMonths: integer (nullable = true)\n",
      "\n"
     ]
    }
   ],
   "source": [
    "df_Users_temp.printSchema()"
   ]
  }
 ],
 "metadata": {
  "kernelspec": {
   "display_name": "Python 3 (ipykernel)",
   "language": "python",
   "name": "python3"
  },
  "language_info": {
   "codemirror_mode": {
    "name": "ipython",
    "version": 3
   },
   "file_extension": ".py",
   "mimetype": "text/x-python",
   "name": "python",
   "nbconvert_exporter": "python",
   "pygments_lexer": "ipython3",
   "version": "3.9.12"
  }
 },
 "nbformat": 4,
 "nbformat_minor": 5
}
